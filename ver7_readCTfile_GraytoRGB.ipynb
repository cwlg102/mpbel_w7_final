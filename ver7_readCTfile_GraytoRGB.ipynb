{
 "cells": [
  {
   "cell_type": "markdown",
   "metadata": {},
   "source": [
    "'1': 필요한 라이브러리 import 하고 dataset이 있는 path 잡아주고 CT폴더 경로 및 RTst로부터 얻은 Contour파일 load함."
   ]
  },
  {
   "cell_type": "code",
   "execution_count": 46,
   "metadata": {},
   "outputs": [],
   "source": [
    "import os\n",
    "import numpy as np\n",
    "import pydicom\n",
    "from numpngw import write_png\n",
    "\n",
    "#from PIL import Image #PIL은 8bit image만 다룰수 있음.\n",
    "#https://stackoverflow.com/questions/62739851/convert-rgb-arrays-to-pil-image\n",
    "#CT폴더 불러오기\n",
    "#Contour파일 불러오기\n",
    "basepath = 'D:\\CodeMaster\\w7_dataset'\n",
    "CT_folder_path = basepath + '\\P071_HN71_CT_2019-02-01_114956_._Neck.3.0_n172__00001'\n",
    "ctr_voxel = np.load('D:\\CodeMaster\\w7voxels\\p071rtst\\p071voxel_ctr.npy')"
   ]
  },
  {
   "cell_type": "markdown",
   "metadata": {},
   "source": [
    "'2': CT정보를 불러와서 Instance Number에 맞추어 정렬(머리부터 시작)"
   ]
  },
  {
   "cell_type": "code",
   "execution_count": 47,
   "metadata": {},
   "outputs": [],
   "source": [
    "def GetCTinfo(CT_folder_path):\n",
    "    CT_dcm_files = []\n",
    "    fileidx = []\n",
    "    for top, dir, file in os.walk(CT_folder_path):\n",
    "        for filename in file:\n",
    "            if filename[-3:] != 'dcm':\n",
    "                continue\n",
    "            temp_ct_slice = pydicom.dcmread(CT_folder_path + '/' + filename)\n",
    "            CT_dcm_files.append(temp_ct_slice)\n",
    "            idxnum = temp_ct_slice.InstanceNumber\n",
    "            fileidx.append(idxnum)\n",
    "        break\n",
    "\n",
    "    fileidx = np.array(fileidx)\n",
    "    fileorder = np.argsort(fileidx)\n",
    "\n",
    "    sorted_CT_file = []\n",
    "    \n",
    "    for i in range(len(fileidx)):\n",
    "        sorted_CT_file.append(CT_dcm_files[fileorder[i]])\n",
    "        \n",
    "    return sorted_CT_file, len(fileidx)\n",
    "    \n",
    "sorted_CT_file, zsize = GetCTinfo(CT_folder_path)"
   ]
  },
  {
   "cell_type": "markdown",
   "metadata": {},
   "source": [
    "'3': 각 slice 마다 Windowing 해줄 함수."
   ]
  },
  {
   "cell_type": "code",
   "execution_count": 48,
   "metadata": {},
   "outputs": [],
   "source": [
    "def GetWindowMaxandMin(ct_dicomdata):\n",
    "\n",
    "    if type(ct_dicomdata.WindowCenter) == pydicom.valuerep.DSfloat:\n",
    "        window_center = ct_dicomdata.WindowCenter\n",
    "        window_width = ct_dicomdata.WindowWidth\n",
    "    else:\n",
    "        window_center = ct_dicomdata.WindowCenter[0]\n",
    "        window_width = ct_dicomdata.WindowWidth[0]\n",
    "\n",
    "    img_max = window_center + window_width // 2\n",
    "    img_min = window_center - window_width // 2\n",
    "    \n",
    "    return img_max, img_min\n",
    "    "
   ]
  },
  {
   "cell_type": "markdown",
   "metadata": {},
   "source": [
    "'4': 변환용 Slope와 Intercept구해줄 함수."
   ]
  },
  {
   "cell_type": "code",
   "execution_count": 49,
   "metadata": {},
   "outputs": [],
   "source": [
    "def GetSlopeandIntercept(ct_dicomdata):\n",
    "    slope = float(ct_dicomdata.RescaleSlope)\n",
    "    intercept = float(ct_dicomdata.RescaleIntercept)\n",
    "    return slope, intercept"
   ]
  },
  {
   "cell_type": "markdown",
   "metadata": {},
   "source": [
    "'5': Gray에서 RGB로 변환하기 위해 2차원 배열을 3개 쌓음(ex: 255 ->[255, 255, 255])"
   ]
  },
  {
   "cell_type": "code",
   "execution_count": 50,
   "metadata": {},
   "outputs": [],
   "source": [
    "def GraytoRGB(arr_slice):\n",
    "    pixel_rgb = np.stack((arr_slice, )*3, axis = -1)\n",
    "    return pixel_rgb"
   ]
  },
  {
   "cell_type": "markdown",
   "metadata": {},
   "source": [
    "'6': 위의 두 함수를 이용하여 Window Center, Window Width와 기존 픽셀값을 HU unit으로 Rescale해주는 값을 얻어 slice array마다 Window를 적용해줌. 그후 16bit에 맞추어 값을 array값을 변환후 RGB화 시켜줌, 변환시 overflow 방지를 위해 int32로 선언\n",
    "(최댓값이 65536까지 가야하므로.)"
   ]
  },
  {
   "cell_type": "code",
   "execution_count": 51,
   "metadata": {},
   "outputs": [],
   "source": [
    "def MakeCTvoxel(sorted_CT_file, zsize):\n",
    "    CT_voxel = np.zeros((zsize, 512, 512, 3), 'int32')\n",
    "\n",
    "    for i in range(len(sorted_CT_file)):\n",
    "        ct_dicomdata = sorted_CT_file[i]\n",
    "        convert_coeff = 2**(ct_dicomdata.BitsAllocated-1)\n",
    "        slope, intercept = GetSlopeandIntercept(ct_dicomdata)\n",
    "        img_max, img_min = GetWindowMaxandMin(ct_dicomdata)\n",
    "        temp_arr_slice = slope * ct_dicomdata.pixel_array + intercept\n",
    "        temp_arr_slice = temp_arr_slice.astype('int32')\n",
    "\n",
    "        temp_arr_slice[temp_arr_slice < img_min] = img_min\n",
    "        temp_arr_slice[temp_arr_slice > img_max] = img_max\n",
    "        \n",
    "        temp_arr_slice *= round(convert_coeff/(img_max-img_min))\n",
    "        CT_voxel[i] = GraytoRGB(temp_arr_slice)\n",
    "\n",
    "    return CT_voxel\n",
    "\n",
    "CT_voxel = MakeCTvoxel(sorted_CT_file, zsize)\n"
   ]
  },
  {
   "cell_type": "markdown",
   "metadata": {},
   "source": [
    "'7': HU unit은 음의 부호도 존재하나 나의 코드에서 png로 저장하기 위해서는 uint16으로 저장해야함. 따라서 위에서 int32으로 수정했던 부분을 uint16으로 저장. 또한 max값을 모두 픽셀의 최대치로, min값을 최소치로 바꿔줌."
   ]
  },
  {
   "cell_type": "code",
   "execution_count": 52,
   "metadata": {},
   "outputs": [
    {
     "name": "stdout",
     "output_type": "stream",
     "text": [
      "-12690\n",
      "20210\n"
     ]
    }
   ],
   "source": [
    "def RefineCTvoxel(sorted_CT_file, CT_voxel):\n",
    "    print(np.min(CT_voxel))\n",
    "    print(np.max(CT_voxel))\n",
    "    convert_coeff = 2**(sorted_CT_file[0].BitsAllocated-1)\n",
    "    CT_voxel += int(convert_coeff) - abs(np.min(CT_voxel))\n",
    "    CT_voxel[CT_voxel <= np.min(CT_voxel)] = 0\n",
    "    CT_voxel[CT_voxel >= np.max(CT_voxel)] = 2*convert_coeff - 1\n",
    "    CT_voxel = CT_voxel.astype('uint16')\n",
    "\n",
    "    return CT_voxel\n",
    "\n",
    "CT_voxel = RefineCTvoxel(sorted_CT_file, CT_voxel)"
   ]
  },
  {
   "cell_type": "markdown",
   "metadata": {},
   "source": [
    "'8': CT는 머리쪽부터 저장된게 default임. 그러나 RTst로부터 얻은 Contour는 배쪽부터 저장되어 있기에 둘을 overlay해주려면 RTst혹은 CT를 reverse시켜야함. "
   ]
  },
  {
   "cell_type": "code",
   "execution_count": 53,
   "metadata": {},
   "outputs": [],
   "source": [
    "def AddContourtoCT(CT_voxel, ctr_voxel):\n",
    "    ctr_voxel = np.flip(ctr_voxel, axis = 0)\n",
    "\n",
    "    #ctr_mask = np.zeros_like(ctr_voxel, dtype=bool)\n",
    "    #ctr_mask = np.where(ctr_voxel != [0, 0, 0], [True, True, True], ctr_mask)\n",
    "    #CT_ctr_voxel = np.where(ctr_mask == [True, True, True], ctr_voxel, CT_voxel)\n",
    "    CT_ctr_voxel = CT_voxel + ctr_voxel//2\n",
    "    \n",
    "    return CT_ctr_voxel\n",
    "\n",
    "CT_ctr_voxel = AddContourtoCT(CT_voxel, ctr_voxel)"
   ]
  },
  {
   "cell_type": "markdown",
   "metadata": {},
   "source": [
    "'9': 사진 및 voxel 저장부분."
   ]
  },
  {
   "cell_type": "code",
   "execution_count": 54,
   "metadata": {},
   "outputs": [],
   "source": [
    "np.save('D:\\CodeMaster\\w7voxels\\p071ct\\p071CTvoxel', CT_ctr_voxel)\n",
    "for k in range(len(CT_ctr_voxel)):\n",
    "    write_png('D:\\CodeMaster\\w7voxels\\p071ct\\p071ct%d.png' %(k+1), CT_ctr_voxel[k])"
   ]
  }
 ],
 "metadata": {
  "kernelspec": {
   "display_name": "Python 3.7.9 ('CodeMaster': venv)",
   "language": "python",
   "name": "python3"
  },
  "language_info": {
   "codemirror_mode": {
    "name": "ipython",
    "version": 3
   },
   "file_extension": ".py",
   "mimetype": "text/x-python",
   "name": "python",
   "nbconvert_exporter": "python",
   "pygments_lexer": "ipython3",
   "version": "3.7.9"
  },
  "orig_nbformat": 4,
  "vscode": {
   "interpreter": {
    "hash": "5840d83a9ffc187334feb055f20ea05b897e31757bbc44b461745d942186d71c"
   }
  }
 },
 "nbformat": 4,
 "nbformat_minor": 2
}
