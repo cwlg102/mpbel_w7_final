{
 "cells": [
  {
   "cell_type": "markdown",
   "metadata": {},
   "source": [
    "1. 기본 세팅(아래 코드)\n",
    "os -> file 탐색을 위해\n",
    "re -> CT dicom 파일 뒤에 있는 인덱스 숫자 추출하기 위해\n",
    "pydicom, numpy -> 당연히 있어야\n",
    "collections, deque -> 점 이어주기를 위해 수행하는 BFS 를 위한 queue"
   ]
  },
  {
   "cell_type": "code",
   "execution_count": 74,
   "metadata": {},
   "outputs": [],
   "source": [
    "import os\n",
    "import re\n",
    "import pydicom\n",
    "import numpy as np\n",
    "from collections import deque\n",
    "basepath = 'D:\\CodeMaster\\w7_dataset'\n",
    "CT_folder_path = basepath+'\\P001_HN1_CT_2018-11-01_102652_RT^01.RT.Head.Neck.(Adult)_Head.&.Neck..3.0..B31s_n150__00000'\n",
    "RTst_folder_path = basepath + '\\P001_HN1_RTst_2018-11-01_102652_RT^01.RT.Head.Neck.(Adult)_re_n1__00000'\n",
    "convertcolor = 65535/255"
   ]
  },
  {
   "cell_type": "markdown",
   "metadata": {},
   "source": [
    "2. CT 정보 가져오기(아래코드) CT 정보를 가져오고, PixelSpacing과 SliceThickness, CT의 시작이미지나 끝 이미지로 부터 이미지의 기준 좌표(시작되는 원점으로 둘곳)를 가져옴. 회사마다 시작 이미지로해야할지 끝 이미지로 해야할지가 달라져서 세팅해주어야함."
   ]
  },
  {
   "cell_type": "code",
   "execution_count": 75,
   "metadata": {},
   "outputs": [
    {
     "name": "stdout",
     "output_type": "stream",
     "text": [
      "2.16.840.1.114362.1.11745409.22133452282.537028968.978.4543.dcm\n"
     ]
    }
   ],
   "source": [
    "#get CT info and number of slice\n",
    "def GetCTinfo(CT_folder_path):\n",
    "    filename_list = []\n",
    "    fileidx = []\n",
    "    for top, dir, file in os.walk(CT_folder_path):\n",
    "        for filename in file:\n",
    "            if filename[-3:] != 'dcm':\n",
    "                continue\n",
    "            filename_list.append(filename)\n",
    "            idxnum = re.findall(r'\\d+', filename)[-1]\n",
    "            fileidx.append(int(idxnum))\n",
    "        break\n",
    "    ####이부분 instancenumber를 뽑아 정렬하는 과정 필요함####\n",
    "\n",
    "    fileidx = np.array(fileidx)\n",
    "    fileorder = np.argsort(fileidx)\n",
    "    \n",
    "    sorted_filename_list = []\n",
    "    sorted_filename_list.append(filename_list[fileorder[0]])\n",
    "    first_ct = pydicom.dcmread(CT_folder_path + '/'+sorted_filename_list[0])\n",
    "    print(sorted_filename_list[0])\n",
    "\n",
    "    return first_ct, len(fileidx)\n",
    "    #좌표변환의 기준이 되는건 항상 '발쪽방향에서 첫번째 사진'\n",
    "    #머리 끝쪽에서 하는 경우 뒤집어줘야함.\n",
    "    #자동변환을 위해\n",
    "\n",
    "first_ct, zsize = GetCTinfo(CT_folder_path)\n"
   ]
  },
  {
   "cell_type": "markdown",
   "metadata": {},
   "source": [
    "3. 2번에서 가져온 PixelSpacing과 ImagePositionPatient로 부터, scale 및 translation 할 값을 계산"
   ]
  },
  {
   "cell_type": "code",
   "execution_count": 76,
   "metadata": {},
   "outputs": [],
   "source": [
    "def ComputeScaleValue(first_ct):\n",
    "    #standard: SIEMENS\n",
    "    scale_value = [float(first_ct.PixelSpacing[0]),\n",
    "                   float(first_ct.PixelSpacing[1]),\n",
    "                   float(first_ct.SliceThickness)]\n",
    "\n",
    "    translation = [abs(first_ct.ImagePositionPatient[0])/first_ct.PixelSpacing[0], \n",
    "                   abs(first_ct.ImagePositionPatient[1])/first_ct.PixelSpacing[1], \n",
    "                   abs(first_ct.ImagePositionPatient[2])/first_ct.SliceThickness]\n",
    "\n",
    "    if first_ct.Manufacturer == 'TOSHIBA': #TOSHIBA일 경우 좌표 보정(사진순서가 다름)\n",
    "        translation[2] -= 1\n",
    "    \n",
    "    return scale_value, translation\n",
    "scale_value, translation = ComputeScaleValue(first_ct)"
   ]
  },
  {
   "cell_type": "markdown",
   "metadata": {},
   "source": [
    "4. RTst로부터 contour정보를 가져옴."
   ]
  },
  {
   "cell_type": "code",
   "execution_count": 77,
   "metadata": {},
   "outputs": [
    {
     "name": "stdout",
     "output_type": "stream",
     "text": [
      "D:\\CodeMaster\\w7_dataset\\P001_HN1_RTst_2018-11-01_102652_RT^01.RT.Head.Neck.(Adult)_re_n1__00000/2.16.840.1.114362.1.11745409.22133452282.538218382.303.4908.dcm\n"
     ]
    }
   ],
   "source": [
    "def GetRTstinfo(RTst_folder_path):\n",
    "    for top, dir, file in os.walk(RTst_folder_path):\n",
    "        for filename in file:\n",
    "            if filename[-3:] != 'dcm':\n",
    "                continue\n",
    "            print(RTst_folder_path +'/'+filename)\n",
    "            dcm = pydicom.dcmread(RTst_folder_path + '/' + filename, force=True)\n",
    "            break\n",
    "    all_ctr = dcm.ROIContourSequence #ROIContourSequence로 Contour 좌표 불러올 수 있음.\n",
    "    return all_ctr\n",
    "all_ctr = GetRTstinfo(RTst_folder_path)"
   ]
  },
  {
   "cell_type": "markdown",
   "metadata": {},
   "source": [
    "5. 7번에 쓰일 함수: 1차원으로 정리되어있는 contour 좌표를, 3개로 끊어서 2차원 배열로 저장하고, 그것을 또 volumecoord로 저장."
   ]
  },
  {
   "cell_type": "code",
   "execution_count": 78,
   "metadata": {},
   "outputs": [],
   "source": [
    "def GetConvertedContourCoordinate(all_ctr, ctrs):\n",
    "    ctr_volume_coord = []\n",
    "    R, G, B = int(all_ctr[ctrs].ROIDisplayColor[0]),int(all_ctr[ctrs].ROIDisplayColor[1]),int(all_ctr[ctrs].ROIDisplayColor[2])\n",
    "    for _slice in range(len(all_ctr[ctrs].ContourSequence)):\n",
    "        ctr_coord_1dim = all_ctr[ctrs].ContourSequence[_slice].ContourData \n",
    "        coord_arr = np.zeros((1, 3))\n",
    "        ###I will append...###\n",
    "        for idx in range(0, len(ctr_coord_1dim), 3): \n",
    "            #1차원적 데이터인 ContourData를 3차원으로(데이터는 3의 배수이므로 다음과같이)\n",
    "            ##################|해당축 기준좌표|/(해당 축 resolution) -> 넘파이에 넣을 좌표에 더할값####################\n",
    "            coord_arr = np.append(coord_arr, \n",
    "            [[(round(ctr_coord_1dim[idx]/scale_value[0]+translation[0])), \n",
    "            (round(ctr_coord_1dim[idx+1]/scale_value[1]+translation[1])), \n",
    "            (round(ctr_coord_1dim[idx+2]/scale_value[2]+translation[2]))]],\n",
    "            axis = 0) \n",
    "        coord_arr = np.delete(coord_arr, 0, axis = 0)\n",
    "        ctr_volume_coord.append(coord_arr) \n",
    "    rgbset = (R, G, B)\n",
    "    \n",
    "    return ctr_volume_coord, rgbset"
   ]
  },
  {
   "cell_type": "markdown",
   "metadata": {},
   "source": [
    "6. 7번에 쓰일 함수: 3개씩 담긴 배열로 정리된 좌표 정보를 바탕으로, 비어있는 voxel에 RGB정보를 채워줌.\n",
    "이때 비어지고 끊어있는 선은 BFS를 활용하여 다음 점까지 std_distance를 업데이트하면서, this_distance가 std_distance보다 크면 넘어가고 작으면 queue에 넣는방식으로 탐색함.\n",
    "조건을 만족하여 queue에 넣어질 pixel은 해당 contour의 RGB정보를 담아줌."
   ]
  },
  {
   "cell_type": "code",
   "execution_count": 79,
   "metadata": {},
   "outputs": [],
   "source": [
    "def ConnectContourMachine(voxelnp, ctr_volume_coord, rgbset):\n",
    "    R, G, B = rgbset\n",
    "    for idx, _slice in enumerate(ctr_volume_coord):\n",
    "            for point_idx in range(len(_slice)):\n",
    "                zi, yi, xi = _slice[point_idx][2], _slice[point_idx][1], _slice[point_idx][0]\n",
    "                try:ziplus, yiplus, xiplus = _slice[point_idx+1][2], _slice[point_idx+1][1], _slice[point_idx+1][0]\n",
    "                except:ziplus, yiplus, xiplus = _slice[0][2], _slice[0][1], _slice[0][0]\n",
    "\n",
    "                ##################bfs searching for next point#################\n",
    "                ########################connecting pixel#######################\n",
    "                std_distance = ((xi-xiplus)**2 + (yi-yiplus)**2)**0.5\n",
    "                if std_distance > 20:\n",
    "                    continue\n",
    "                queue = deque()\n",
    "                dx = [1, -1, 0, 0]\n",
    "                dy = [0, 0, 1, -1]\n",
    "                voxelnp[int(zi)][int(yi)][int(xi)] = \\\n",
    "                    np.array([round(R*convertcolor), round(G*convertcolor), round(B*convertcolor)])\n",
    "                queue.append((xi, yi))\n",
    "                while queue:\n",
    "                    x, y = queue.popleft()\n",
    "                    for i in range(4):\n",
    "                        nx = x + dx[i]\n",
    "                        ny = y + dy[i]\n",
    "                        this_distance = ((nx-xiplus)**2+(ny-yiplus)**2)**0.5\n",
    "                        if std_distance <= this_distance:\n",
    "                            continue\n",
    "                        else:\n",
    "                            std_distance = this_distance\n",
    "                            if (nx, ny) == (xiplus, yiplus):\n",
    "                                break\n",
    "                            queue.append((nx, ny))\n",
    "                            voxelnp[int(zi)][int(ny)][int(nx)] = \\\n",
    "                                np.array([round(R*convertcolor), round(G*convertcolor), round(B*convertcolor)])\n",
    "    \n",
    "    return voxelnp"
   ]
  },
  {
   "cell_type": "markdown",
   "metadata": {},
   "source": [
    "7. voxelnp를 CT의 z축 size에 맞게 zeros배열로 선언해주고 위의 두 함수로 voxelnp를 채워나감"
   ]
  },
  {
   "cell_type": "code",
   "execution_count": 80,
   "metadata": {},
   "outputs": [],
   "source": [
    "def MakeContourVoxel(all_ctr, zsize):\n",
    "    voxelnp = np.zeros((zsize, 512, 512, 3))\n",
    "    for ctrs in range(len(all_ctr)):\n",
    "        ctr_volume_coord, rgbset = GetConvertedContourCoordinate(all_ctr, ctrs)\n",
    "        voxelnp = ConnectContourMachine(voxelnp, ctr_volume_coord, rgbset)\n",
    "    voxelnp = voxelnp.astype('uint16')\n",
    "    return voxelnp\n",
    "\n",
    "voxelnp = MakeContourVoxel(all_ctr, zsize)\n"
   ]
  },
  {
   "cell_type": "markdown",
   "metadata": {},
   "source": [
    "8. 저장하기"
   ]
  },
  {
   "cell_type": "code",
   "execution_count": 81,
   "metadata": {},
   "outputs": [],
   "source": [
    "np.save('D:\\CodeMaster\\w7voxels\\p001rtst\\p001voxel_ctr', voxelnp)"
   ]
  }
 ],
 "metadata": {
  "kernelspec": {
   "display_name": "Python 3.7.9 ('CodeMaster': venv)",
   "language": "python",
   "name": "python3"
  },
  "language_info": {
   "codemirror_mode": {
    "name": "ipython",
    "version": 3
   },
   "file_extension": ".py",
   "mimetype": "text/x-python",
   "name": "python",
   "nbconvert_exporter": "python",
   "pygments_lexer": "ipython3",
   "version": "3.7.9"
  },
  "orig_nbformat": 4,
  "vscode": {
   "interpreter": {
    "hash": "5840d83a9ffc187334feb055f20ea05b897e31757bbc44b461745d942186d71c"
   }
  }
 },
 "nbformat": 4,
 "nbformat_minor": 2
}
